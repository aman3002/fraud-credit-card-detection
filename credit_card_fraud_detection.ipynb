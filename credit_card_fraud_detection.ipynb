{
  "nbformat": 4,
  "nbformat_minor": 0,
  "metadata": {
    "colab": {
      "provenance": [],
      "mount_file_id": "1dbMFvQ0Jrr5cKOE8x7AjEtUD--i9F_8a",
      "authorship_tag": "ABX9TyOdPZJAazVr5dwHu/P6bN3M",
      "include_colab_link": true
    },
    "kernelspec": {
      "name": "python3",
      "display_name": "Python 3"
    },
    "language_info": {
      "name": "python"
    }
  },
  "cells": [
    {
      "cell_type": "markdown",
      "metadata": {
        "id": "view-in-github",
        "colab_type": "text"
      },
      "source": [
        "<a href=\"https://colab.research.google.com/github/aman3002/fraud-credit-card-detection/blob/main/credit_card_fraud_detection.ipynb\" target=\"_parent\"><img src=\"https://colab.research.google.com/assets/colab-badge.svg\" alt=\"Open In Colab\"/></a>"
      ]
    },
    {
      "cell_type": "code",
      "execution_count": 50,
      "metadata": {
        "colab": {
          "base_uri": "https://localhost:8080/"
        },
        "id": "OkI1QxbacWGn",
        "outputId": "0e8ee988-9e57-4e8c-fb1f-1fb83706fb73"
      },
      "outputs": [
        {
          "output_type": "stream",
          "name": "stdout",
          "text": [
            "            Time         V1         V2        V3        V4        V5  \\\n",
            "0            0.0  -1.359807  -0.072781  2.536347  1.378155 -0.338321   \n",
            "1            0.0   1.191857   0.266151  0.166480  0.448154  0.060018   \n",
            "2            1.0  -1.358354  -1.340163  1.773209  0.379780 -0.503198   \n",
            "3            1.0  -0.966272  -0.185226  1.792993 -0.863291 -0.010309   \n",
            "4            2.0  -1.158233   0.877737  1.548718  0.403034 -0.407193   \n",
            "...          ...        ...        ...       ...       ...       ...   \n",
            "284802  172786.0 -11.881118  10.071785 -9.834783 -2.066656 -5.364473   \n",
            "284803  172787.0  -0.732789  -0.055080  2.035030 -0.738589  0.868229   \n",
            "284804  172788.0   1.919565  -0.301254 -3.249640 -0.557828  2.630515   \n",
            "284805  172788.0  -0.240440   0.530483  0.702510  0.689799 -0.377961   \n",
            "284806  172792.0  -0.533413  -0.189733  0.703337 -0.506271 -0.012546   \n",
            "\n",
            "              V6        V7        V8        V9  ...       V21       V22  \\\n",
            "0       0.462388  0.239599  0.098698  0.363787  ... -0.018307  0.277838   \n",
            "1      -0.082361 -0.078803  0.085102 -0.255425  ... -0.225775 -0.638672   \n",
            "2       1.800499  0.791461  0.247676 -1.514654  ...  0.247998  0.771679   \n",
            "3       1.247203  0.237609  0.377436 -1.387024  ... -0.108300  0.005274   \n",
            "4       0.095921  0.592941 -0.270533  0.817739  ... -0.009431  0.798278   \n",
            "...          ...       ...       ...       ...  ...       ...       ...   \n",
            "284802 -2.606837 -4.918215  7.305334  1.914428  ...  0.213454  0.111864   \n",
            "284803  1.058415  0.024330  0.294869  0.584800  ...  0.214205  0.924384   \n",
            "284804  3.031260 -0.296827  0.708417  0.432454  ...  0.232045  0.578229   \n",
            "284805  0.623708 -0.686180  0.679145  0.392087  ...  0.265245  0.800049   \n",
            "284806 -0.649617  1.577006 -0.414650  0.486180  ...  0.261057  0.643078   \n",
            "\n",
            "             V23       V24       V25       V26       V27       V28  Amount  \\\n",
            "0      -0.110474  0.066928  0.128539 -0.189115  0.133558 -0.021053  149.62   \n",
            "1       0.101288 -0.339846  0.167170  0.125895 -0.008983  0.014724    2.69   \n",
            "2       0.909412 -0.689281 -0.327642 -0.139097 -0.055353 -0.059752  378.66   \n",
            "3      -0.190321 -1.175575  0.647376 -0.221929  0.062723  0.061458  123.50   \n",
            "4      -0.137458  0.141267 -0.206010  0.502292  0.219422  0.215153   69.99   \n",
            "...          ...       ...       ...       ...       ...       ...     ...   \n",
            "284802  1.014480 -0.509348  1.436807  0.250034  0.943651  0.823731    0.77   \n",
            "284803  0.012463 -1.016226 -0.606624 -0.395255  0.068472 -0.053527   24.79   \n",
            "284804 -0.037501  0.640134  0.265745 -0.087371  0.004455 -0.026561   67.88   \n",
            "284805 -0.163298  0.123205 -0.569159  0.546668  0.108821  0.104533   10.00   \n",
            "284806  0.376777  0.008797 -0.473649 -0.818267 -0.002415  0.013649  217.00   \n",
            "\n",
            "        Class  \n",
            "0           0  \n",
            "1           0  \n",
            "2           0  \n",
            "3           0  \n",
            "4           0  \n",
            "...       ...  \n",
            "284802      0  \n",
            "284803      0  \n",
            "284804      0  \n",
            "284805      0  \n",
            "284806      0  \n",
            "\n",
            "[284807 rows x 31 columns]\n"
          ]
        }
      ],
      "source": [
        "import pandas as pd\n",
        "import numpy as np\n",
        "import matplotlib.pyplot as plt\n",
        "from sklearn.model_selection import train_test_split\n",
        "from sklearn.preprocessing import MinMaxScaler\n",
        "a=pd.read_csv(\"/content/drive/MyDrive/credit card dataset/creditcard.csv\")\n",
        "print(a)"
      ]
    },
    {
      "cell_type": "code",
      "source": [
        "#describing the dataset\n",
        "z=(list(a.columns))\n",
        "print(a.info())"
      ],
      "metadata": {
        "colab": {
          "base_uri": "https://localhost:8080/"
        },
        "id": "2lzuw7oIdD4E",
        "outputId": "6a00d27a-92b1-4c65-eaee-e3aa63baf451"
      },
      "execution_count": 51,
      "outputs": [
        {
          "output_type": "stream",
          "name": "stdout",
          "text": [
            "<class 'pandas.core.frame.DataFrame'>\n",
            "RangeIndex: 284807 entries, 0 to 284806\n",
            "Data columns (total 31 columns):\n",
            " #   Column  Non-Null Count   Dtype  \n",
            "---  ------  --------------   -----  \n",
            " 0   Time    284807 non-null  float64\n",
            " 1   V1      284807 non-null  float64\n",
            " 2   V2      284807 non-null  float64\n",
            " 3   V3      284807 non-null  float64\n",
            " 4   V4      284807 non-null  float64\n",
            " 5   V5      284807 non-null  float64\n",
            " 6   V6      284807 non-null  float64\n",
            " 7   V7      284807 non-null  float64\n",
            " 8   V8      284807 non-null  float64\n",
            " 9   V9      284807 non-null  float64\n",
            " 10  V10     284807 non-null  float64\n",
            " 11  V11     284807 non-null  float64\n",
            " 12  V12     284807 non-null  float64\n",
            " 13  V13     284807 non-null  float64\n",
            " 14  V14     284807 non-null  float64\n",
            " 15  V15     284807 non-null  float64\n",
            " 16  V16     284807 non-null  float64\n",
            " 17  V17     284807 non-null  float64\n",
            " 18  V18     284807 non-null  float64\n",
            " 19  V19     284807 non-null  float64\n",
            " 20  V20     284807 non-null  float64\n",
            " 21  V21     284807 non-null  float64\n",
            " 22  V22     284807 non-null  float64\n",
            " 23  V23     284807 non-null  float64\n",
            " 24  V24     284807 non-null  float64\n",
            " 25  V25     284807 non-null  float64\n",
            " 26  V26     284807 non-null  float64\n",
            " 27  V27     284807 non-null  float64\n",
            " 28  V28     284807 non-null  float64\n",
            " 29  Amount  284807 non-null  float64\n",
            " 30  Class   284807 non-null  int64  \n",
            "dtypes: float64(30), int64(1)\n",
            "memory usage: 67.4 MB\n",
            "None\n"
          ]
        }
      ]
    },
    {
      "cell_type": "code",
      "source": [
        "print(a.isna().sum())"
      ],
      "metadata": {
        "colab": {
          "base_uri": "https://localhost:8080/"
        },
        "id": "6PFjPeltdX1P",
        "outputId": "d62ca46f-048c-49f6-ee20-e189fef85c16"
      },
      "execution_count": 52,
      "outputs": [
        {
          "output_type": "stream",
          "name": "stdout",
          "text": [
            "Time      0\n",
            "V1        0\n",
            "V2        0\n",
            "V3        0\n",
            "V4        0\n",
            "V5        0\n",
            "V6        0\n",
            "V7        0\n",
            "V8        0\n",
            "V9        0\n",
            "V10       0\n",
            "V11       0\n",
            "V12       0\n",
            "V13       0\n",
            "V14       0\n",
            "V15       0\n",
            "V16       0\n",
            "V17       0\n",
            "V18       0\n",
            "V19       0\n",
            "V20       0\n",
            "V21       0\n",
            "V22       0\n",
            "V23       0\n",
            "V24       0\n",
            "V25       0\n",
            "V26       0\n",
            "V27       0\n",
            "V28       0\n",
            "Amount    0\n",
            "Class     0\n",
            "dtype: int64\n"
          ]
        }
      ]
    },
    {
      "cell_type": "code",
      "source": [
        "#dropping the null values\n",
        "a=a.dropna()"
      ],
      "metadata": {
        "id": "cbQW1abPdgh4"
      },
      "execution_count": 53,
      "outputs": []
    },
    {
      "cell_type": "code",
      "source": [
        "plt.plot(a[\"Time\"],a[\"Amount\"])\n",
        "plt.show()"
      ],
      "metadata": {
        "colab": {
          "base_uri": "https://localhost:8080/",
          "height": 265
        },
        "id": "CuiK6jhqdx8s",
        "outputId": "99934ae2-7234-40af-e8e2-4c08dba63f2f"
      },
      "execution_count": 54,
      "outputs": [
        {
          "output_type": "display_data",
          "data": {
            "text/plain": [
              "<Figure size 432x288 with 1 Axes>"
            ],
            "image/png": "[encoded data removed]"
          },
          "metadata": {
            "needs_background": "light"
          }
        }
      ]
    },
    {
      "cell_type": "code",
      "source": [
        "#due to inappropiate scaling we have to rescale the values\n",
        "scaler=MinMaxScaler()\n",
        "s=scaler.fit_transform(a.iloc[:,:-1])\n",
        "print(s)"
      ],
      "metadata": {
        "colab": {
          "base_uri": "https://localhost:8080/"
        },
        "id": "R5PB2VSweG7v",
        "outputId": "1054aba5-2e7e-4bbb-9bf6-4ac1617c5617"
      },
      "execution_count": 55,
      "outputs": [
        {
          "output_type": "stream",
          "name": "stdout",
          "text": [
            "[[0.00000000e+00 9.35192337e-01 7.66490419e-01 ... 4.18976135e-01\n",
            "  3.12696634e-01 5.82379309e-03]\n",
            " [0.00000000e+00 9.78541955e-01 7.70066651e-01 ... 4.16345145e-01\n",
            "  3.13422663e-01 1.04705276e-04]\n",
            " [5.78730497e-06 9.35217023e-01 7.53117667e-01 ... 4.15489266e-01\n",
            "  3.11911316e-01 1.47389219e-02]\n",
            " ...\n",
            " [9.99976851e-01 9.90904812e-01 7.64079694e-01 ... 4.16593177e-01\n",
            "  3.12584864e-01 2.64215395e-03]\n",
            " [9.99976851e-01 9.54208999e-01 7.72855742e-01 ... 4.18519535e-01\n",
            "  3.15245157e-01 3.89238944e-04]\n",
            " [1.00000000e+00 9.49231759e-01 7.65256401e-01 ... 4.16466371e-01\n",
            "  3.13400843e-01 8.44648509e-03]]\n"
          ]
        }
      ]
    },
    {
      "cell_type": "code",
      "source": [
        "x=pd.DataFrame(s,columns=z[:-1])\n",
        "t=a[\"Class\"].values\n",
        "t=pd.DataFrame(t,columns=[\"Class\"])\n",
        "x=pd.concat([x,t],axis=1)\n",
        "print(x)"
      ],
      "metadata": {
        "colab": {
          "base_uri": "https://localhost:8080/"
        },
        "id": "FUGM3OuOfDm8",
        "outputId": "32f24c5d-e3b4-4f3e-c320-d318004d8a54"
      },
      "execution_count": 60,
      "outputs": [
        {
          "output_type": "stream",
          "name": "stdout",
          "text": [
            "            Time        V1        V2        V3        V4        V5        V6  \\\n",
            "0       0.000000  0.935192  0.766490  0.881365  0.313023  0.763439  0.267669   \n",
            "1       0.000000  0.978542  0.770067  0.840298  0.271796  0.766120  0.262192   \n",
            "2       0.000006  0.935217  0.753118  0.868141  0.268766  0.762329  0.281122   \n",
            "3       0.000006  0.941878  0.765304  0.868484  0.213661  0.765647  0.275559   \n",
            "4       0.000012  0.938617  0.776520  0.864251  0.269796  0.762975  0.263984   \n",
            "...          ...       ...       ...       ...       ...       ...       ...   \n",
            "284802  0.999965  0.756448  0.873531  0.666991  0.160317  0.729603  0.236810   \n",
            "284803  0.999971  0.945845  0.766677  0.872678  0.219189  0.771561  0.273661   \n",
            "284804  0.999977  0.990905  0.764080  0.781102  0.227202  0.783425  0.293496   \n",
            "284805  0.999977  0.954209  0.772856  0.849587  0.282508  0.763172  0.269291   \n",
            "284806  1.000000  0.949232  0.765256  0.849601  0.229488  0.765632  0.256488   \n",
            "\n",
            "              V7        V8        V9  ...       V21       V22       V23  \\\n",
            "0       0.266815  0.786444  0.475312  ...  0.561184  0.522992  0.663793   \n",
            "1       0.264875  0.786298  0.453981  ...  0.557840  0.480237  0.666938   \n",
            "2       0.270177  0.788042  0.410603  ...  0.565477  0.546030  0.678939   \n",
            "3       0.266803  0.789434  0.414999  ...  0.559734  0.510277  0.662607   \n",
            "4       0.268968  0.782484  0.490950  ...  0.561327  0.547271  0.663392   \n",
            "...          ...       ...       ...  ...       ...       ...       ...   \n",
            "284802  0.235393  0.863749  0.528729  ...  0.564920  0.515249  0.680500   \n",
            "284803  0.265504  0.788548  0.482925  ...  0.564933  0.553153  0.665619   \n",
            "284804  0.263547  0.792985  0.477677  ...  0.565220  0.537005  0.664877   \n",
            "284805  0.261175  0.792671  0.476287  ...  0.565755  0.547353  0.663008   \n",
            "284806  0.274963  0.780938  0.479528  ...  0.565688  0.540031  0.671029   \n",
            "\n",
            "             V24       V25       V26       V27       V28    Amount  Class  \n",
            "0       0.391253  0.585122  0.394557  0.418976  0.312697  0.005824      0  \n",
            "1       0.336440  0.587290  0.446013  0.416345  0.313423  0.000105      0  \n",
            "2       0.289354  0.559515  0.402727  0.415489  0.311911  0.014739      0  \n",
            "3       0.223826  0.614245  0.389197  0.417669  0.314371  0.004807      0  \n",
            "4       0.401270  0.566343  0.507497  0.420561  0.317490  0.002724      0  \n",
            "...          ...       ...       ...       ...       ...       ...    ...  \n",
            "284802  0.313600  0.658558  0.466291  0.433929  0.329840  0.000030      0  \n",
            "284803  0.245298  0.543855  0.360884  0.417775  0.312038  0.000965      0  \n",
            "284804  0.468492  0.592824  0.411177  0.416593  0.312585  0.002642      0  \n",
            "284805  0.398836  0.545958  0.514746  0.418520  0.315245  0.000389      0  \n",
            "284806  0.383420  0.551319  0.291786  0.416466  0.313401  0.008446      0  \n",
            "\n",
            "[284807 rows x 31 columns]\n"
          ]
        }
      ]
    },
    {
      "cell_type": "code",
      "source": [],
      "metadata": {
        "colab": {
          "base_uri": "https://localhost:8080/"
        },
        "id": "r3NdluHPfPaF",
        "outputId": "6d2109b7-53b5-4276-8b9b-6fbfa0375a00"
      },
      "execution_count": 60,
      "outputs": [
        {
          "output_type": "stream",
          "name": "stdout",
          "text": [
            "            Time        V1        V2        V3        V4        V5        V6  \\\n",
            "0      -1.995605 -0.669989 -0.032134  1.605555  0.951892 -0.213575  0.332804   \n",
            "1      -1.995605  0.632056  0.170669  0.029762  0.294394  0.075893 -0.078437   \n",
            "2      -1.995581 -0.669248 -0.790483  1.098123  0.246054 -0.333390  1.342970   \n",
            "3      -1.995581 -0.469179 -0.099416  1.111277 -0.632779  0.024787  0.925276   \n",
            "4      -1.995557 -0.567131  0.536617  0.948852  0.262495 -0.263624  0.056151   \n",
            "...          ...       ...       ...       ...       ...       ...       ...   \n",
            "243619  1.635192 -0.501975  0.285813  0.339477 -0.559369 -0.697463  0.002924   \n",
            "243620  1.635192  0.833620 -1.427166 -1.251868 -1.068392 -0.814917 -0.324286   \n",
            "243621  1.635216  1.105706 -0.287891 -1.173625 -0.278008  0.062984 -0.550226   \n",
            "243622  1.635216  1.050979 -0.059642 -1.171659  0.214802  0.266982 -0.667788   \n",
            "243623  1.635216  1.066078 -0.011986 -0.785686  0.275214 -0.044011 -0.923068   \n",
            "\n",
            "              V7        V8        V9  ...       V21       V22       V23  \\\n",
            "0       0.209379  0.080619  0.324731  ... -0.020188  0.408951 -0.161006   \n",
            "1      -0.049804  0.069292 -0.230334  ... -0.300373 -0.873687  0.169641   \n",
            "2       0.658602  0.204731 -1.359114  ...  0.339456  1.100073  1.431453   \n",
            "3       0.207759  0.312833 -1.244706  ... -0.141724  0.027503 -0.285679   \n",
            "4       0.497004 -0.226983  0.731657  ... -0.008201  1.137298 -0.203139   \n",
            "...          ...       ...       ...  ...       ...       ...       ...   \n",
            "243619  1.402602 -0.686872  0.632994  ...  0.228859  1.723006  0.135160   \n",
            "243620 -0.348142 -0.228615 -1.701010  ...  0.492805  0.934523 -0.333631   \n",
            "243621  0.091635 -0.329461 -0.583830  ... -0.583073 -0.881665  0.333358   \n",
            "243622  0.324966 -0.252076  0.590014  ... -0.162640 -0.414197  0.270195   \n",
            "243623  0.208899 -0.311697  0.401259  ... -0.367698 -0.894923  0.519185   \n",
            "\n",
            "             V24       V25       V26       V27       V28    Amount     Class  \n",
            "0       0.109533  0.200041 -0.392641  0.333973 -0.066485  0.231873 -0.042633  \n",
            "1      -0.561274  0.275228  0.255428 -0.020514  0.040904 -0.350250 -0.042633  \n",
            "2      -1.137522 -0.687820 -0.289738 -0.135831 -0.182645  1.139308 -0.042633  \n",
            "3      -1.939464  1.209847 -0.460149  0.157812  0.181181  0.128388 -0.042633  \n",
            "4       0.232124 -0.451088  1.029791  0.547508  0.642518 -0.083614 -0.042633  \n",
            "...          ...       ...       ...       ...       ...       ...       ...  \n",
            "243619  0.271392 -2.282972  0.821555 -1.151743 -0.204826  0.629569 -0.042633  \n",
            "243620  1.230900 -0.199923 -0.029593 -0.203416 -0.001145  1.136693 -0.042633  \n",
            "243621  0.979693  0.134716 -0.840568 -0.002926 -0.124148 -0.198549 -0.042633  \n",
            "243622  1.067130  0.171613 -0.925759 -0.094311 -0.141111 -0.200173 -0.042633  \n",
            "243623  0.103399 -0.601089  0.392025 -0.169118 -0.173745 -0.313404 -0.042633  \n",
            "\n",
            "[243624 rows x 31 columns]\n"
          ]
        }
      ]
    },
    {
      "cell_type": "code",
      "source": [
        "plt.plot(x[\"Time\"],x[\"Amount\"])"
      ],
      "metadata": {
        "colab": {
          "base_uri": "https://localhost:8080/",
          "height": 282
        },
        "id": "AzA20lfqhbwA",
        "outputId": "986a684a-bc7e-4c74-c8bb-2141ddfa2417"
      },
      "execution_count": 61,
      "outputs": [
        {
          "output_type": "execute_result",
          "data": {
            "text/plain": [
              "[<matplotlib.lines.Line2D at 0x7fa580e70fd0>]"
            ]
          },
          "metadata": {},
          "execution_count": 61
        },
        {
          "output_type": "display_data",
          "data": {
            "text/plain": [
              "<Figure size 432x288 with 1 Axes>"
            ],
            "image/png": "[encoded data removed]"
          },
          "metadata": {
            "needs_background": "light"
          }
        }
      ]
    },
    {
      "cell_type": "code",
      "source": [
        "print(a[\"Class\"].unique())"
      ],
      "metadata": {
        "colab": {
          "base_uri": "https://localhost:8080/"
        },
        "id": "hcwABSt6i5lO",
        "outputId": "44780f18-24ca-4faf-b29d-39b5dcaacbc8"
      },
      "execution_count": 62,
      "outputs": [
        {
          "output_type": "stream",
          "name": "stdout",
          "text": [
            "[0 1]\n"
          ]
        }
      ]
    },
    {
      "cell_type": "code",
      "source": [
        "import seaborn as sns\n",
        "sns.countplot(x=\"Class\",data=a)"
      ],
      "metadata": {
        "colab": {
          "base_uri": "https://localhost:8080/",
          "height": 296
        },
        "id": "p9F0SVBFjEev",
        "outputId": "e254fcfc-488e-46d5-e527-f9cb6c651640"
      },
      "execution_count": 63,
      "outputs": [
        {
          "output_type": "execute_result",
          "data": {
            "text/plain": [
              "<Axes: xlabel='Class', ylabel='count'>"
            ]
          },
          "metadata": {},
          "execution_count": 63
        },
        {
          "output_type": "display_data",
          "data": {
            "text/plain": [
              "<Figure size 432x288 with 1 Axes>"
            ],
            "image/png": "[encoded data removed]"
          },
          "metadata": {
            "needs_background": "light"
          }
        }
      ]
    },
    {
      "cell_type": "code",
      "source": [
        "from sklearn.ensemble import RandomForestClassifier\n",
        "from sklearn.tree import DecisionTreeClassifier\n",
        "w=x.iloc[:,:-1]\n",
        "e=x.iloc[:,-1]\n",
        "xtrain,xtest,ytrain,ytest=train_test_split(w,e,test_size=0.2,random_state=0)\n",
        "model1=RandomForestClassifier()\n",
        "model2=DecisionTreeClassifier()\n",
        "model1.fit(xtrain,ytrain)\n",
        "model2.fit(xtrain,ytrain)\n"
      ],
      "metadata": {
        "colab": {
          "base_uri": "https://localhost:8080/",
          "height": 74
        },
        "id": "r9dUgrTfj7rY",
        "outputId": "d9614152-be6c-4bd3-ef75-bee9b9c7ef4f"
      },
      "execution_count": 64,
      "outputs": [
        {
          "output_type": "execute_result",
          "data": {
            "text/plain": [
              "DecisionTreeClassifier()"
            ],
            "text/html": [
              "<style>#sk-container-id-1 {color: black;background-color: white;}#sk-container-id-1 pre{padding: 0;}#sk-container-id-1 div.sk-toggleable {background-color: white;}#sk-container-id-1 label.sk-toggleable__label {cursor: pointer;display: block;width: 100%;margin-bottom: 0;padding: 0.3em;box-sizing: border-box;text-align: center;}#sk-container-id-1 label.sk-toggleable__label-arrow:before {content: \"▸\";float: left;margin-right: 0.25em;color: #696969;}#sk-container-id-1 label.sk-toggleable__label-arrow:hover:before {color: black;}#sk-container-id-1 div.sk-estimator:hover label.sk-toggleable__label-arrow:before {color: black;}#sk-container-id-1 div.sk-toggleable__content {max-height: 0;max-width: 0;overflow: hidden;text-align: left;background-color: #f0f8ff;}#sk-container-id-1 div.sk-toggleable__content pre {margin: 0.2em;color: black;border-radius: 0.25em;background-color: #f0f8ff;}#sk-container-id-1 input.sk-toggleable__control:checked~div.sk-toggleable__content {max-height: 200px;max-width: 100%;overflow: auto;}#sk-container-id-1 input.sk-toggleable__control:checked~label.sk-toggleable__label-arrow:before {content: \"▾\";}#sk-container-id-1 div.sk-estimator input.sk-toggleable__control:checked~label.sk-toggleable__label {background-color: #d4ebff;}#sk-container-id-1 div.sk-label input.sk-toggleable__control:checked~label.sk-toggleable__label {background-color: #d4ebff;}#sk-container-id-1 input.sk-hidden--visually {border: 0;clip: rect(1px 1px 1px 1px);clip: rect(1px, 1px, 1px, 1px);height: 1px;margin: -1px;overflow: hidden;padding: 0;position: absolute;width: 1px;}#sk-container-id-1 div.sk-estimator {font-family: monospace;background-color: #f0f8ff;border: 1px dotted black;border-radius: 0.25em;box-sizing: border-box;margin-bottom: 0.5em;}#sk-container-id-1 div.sk-estimator:hover {background-color: #d4ebff;}#sk-container-id-1 div.sk-parallel-item::after {content: \"\";width: 100%;border-bottom: 1px solid gray;flex-grow: 1;}#sk-container-id-1 div.sk-label:hover label.sk-toggleable__label {background-color: #d4ebff;}#sk-container-id-1 div.sk-serial::before {content: \"\";position: absolute;border-left: 1px solid gray;box-sizing: border-box;top: 0;bottom: 0;left: 50%;z-index: 0;}#sk-container-id-1 div.sk-serial {display: flex;flex-direction: column;align-items: center;background-color: white;padding-right: 0.2em;padding-left: 0.2em;position: relative;}#sk-container-id-1 div.sk-item {position: relative;z-index: 1;}#sk-container-id-1 div.sk-parallel {display: flex;align-items: stretch;justify-content: center;background-color: white;position: relative;}#sk-container-id-1 div.sk-item::before, #sk-container-id-1 div.sk-parallel-item::before {content: \"\";position: absolute;border-left: 1px solid gray;box-sizing: border-box;top: 0;bottom: 0;left: 50%;z-index: -1;}#sk-container-id-1 div.sk-parallel-item {display: flex;flex-direction: column;z-index: 1;position: relative;background-color: white;}#sk-container-id-1 div.sk-parallel-item:first-child::after {align-self: flex-end;width: 50%;}#sk-container-id-1 div.sk-parallel-item:last-child::after {align-self: flex-start;width: 50%;}#sk-container-id-1 div.sk-parallel-item:only-child::after {width: 0;}#sk-container-id-1 div.sk-dashed-wrapped {border: 1px dashed gray;margin: 0 0.4em 0.5em 0.4em;box-sizing: border-box;padding-bottom: 0.4em;background-color: white;}#sk-container-id-1 div.sk-label label {font-family: monospace;font-weight: bold;display: inline-block;line-height: 1.2em;}#sk-container-id-1 div.sk-label-container {text-align: center;}#sk-container-id-1 div.sk-container {/* jupyter's `normalize.less` sets `[hidden] { display: none; }` but bootstrap.min.css set `[hidden] { display: none !important; }` so we also need the `!important` here to be able to override the default hidden behavior on the sphinx rendered scikit-learn.org. See: https://github.com/scikit-learn/scikit-learn/issues/21755 */display: inline-block !important;position: relative;}#sk-container-id-1 div.sk-text-repr-fallback {display: none;}</style><div id=\"sk-container-id-1\" class=\"sk-top-container\"><div class=\"sk-text-repr-fallback\"><pre>DecisionTreeClassifier()</pre><b>In a Jupyter environment, please rerun this cell to show the HTML representation or trust the notebook. <br />On GitHub, the HTML representation is unable to render, please try loading this page with nbviewer.org.</b></div><div class=\"sk-container\" hidden><div class=\"sk-item\"><div class=\"sk-estimator sk-toggleable\"><input class=\"sk-toggleable__control sk-hidden--visually\" id=\"sk-estimator-id-1\" type=\"checkbox\" checked><label for=\"sk-estimator-id-1\" class=\"sk-toggleable__label sk-toggleable__label-arrow\">DecisionTreeClassifier</label><div class=\"sk-toggleable__content\"><pre>DecisionTreeClassifier()</pre></div></div></div></div></div>"
            ]
          },
          "metadata": {},
          "execution_count": 64
        }
      ]
    },
    {
      "cell_type": "code",
      "source": [
        "q=model1.predict(xtest)\n",
        "p=model2.predict(xtest)\n",
        "i=model1.score(w,e)\n",
        "o=model2.score(w,e)\n",
        "print(\"model 1 score\",i)\n",
        "print(\"model 2 score\",o)"
      ],
      "metadata": {
        "colab": {
          "base_uri": "https://localhost:8080/"
        },
        "id": "yBuOWH_Q2xgH",
        "outputId": "63561717-2027-44b1-d899-1817618f03ec"
      },
      "execution_count": 66,
      "outputs": [
        {
          "output_type": "stream",
          "name": "stdout",
          "text": [
            "model 1 score 0.9999016878096395\n",
            "model 2 score 0.9998455094151478\n"
          ]
        }
      ]
    },
    {
      "cell_type": "markdown",
      "source": [
        "Random forest classifier works better than the decision tree classifier for the fraud credit card detection."
      ],
      "metadata": {
        "id": "TNeInC405avK"
      }
    },
    {
      "cell_type": "code",
      "source": [
        "print(model1.predict(np.array(x.iloc[-1,:-1]).reshape(1,-1)))"
      ],
      "metadata": {
        "colab": {
          "base_uri": "https://localhost:8080/"
        },
        "id": "j2JnY6VH4SKc",
        "outputId": "05f8119b-c72d-4af5-b91d-a4d0ed3e8d09"
      },
      "execution_count": 71,
      "outputs": [
        {
          "output_type": "stream",
          "name": "stdout",
          "text": [
            "[0]\n"
          ]
        },
        {
          "output_type": "stream",
          "name": "stderr",
          "text": [
            "/usr/local/lib/python3.9/dist-packages/sklearn/base.py:439: UserWarning: X does not have valid feature names, but RandomForestClassifier was fitted with feature names\n",
            "  warnings.warn(\n"
          ]
        }
      ]
    },
    {
      "cell_type": "code",
      "source": [
        "plt.plot(x[\"Time\"],x[\"Amount\"])"
      ],
      "metadata": {
        "colab": {
          "base_uri": "https://localhost:8080/",
          "height": 282
        },
        "id": "HAKXe01o4kYh",
        "outputId": "c48e3267-28e7-4cc4-d67b-8171079ee814"
      },
      "execution_count": 72,
      "outputs": [
        {
          "output_type": "execute_result",
          "data": {
            "text/plain": [
              "[<matplotlib.lines.Line2D at 0x7fa54591c970>]"
            ]
          },
          "metadata": {},
          "execution_count": 72
        },
        {
          "output_type": "display_data",
          "data": {
            "text/plain": [
              "<Figure size 432x288 with 1 Axes>"
            ],
            "image/png": "[encoded data removed]"
          },
          "metadata": {
            "needs_background": "light"
          }
        }
      ]
    },
    {
      "cell_type": "code",
      "source": [
        "sns.heatmap(x)\n",
        "plt.show()"
      ],
      "metadata": {
        "colab": {
          "base_uri": "https://localhost:8080/",
          "height": 287
        },
        "id": "MJq8zPIS6KxH",
        "outputId": "5e5be16c-6628-4302-b252-470b3d90deac"
      },
      "execution_count": 78,
      "outputs": [
        {
          "output_type": "display_data",
          "data": {
            "text/plain": [
              "<Figure size 432x288 with 2 Axes>"
            ],
            "image/png": "[encoded data removed]"
          },
          "metadata": {
            "needs_background": "light"
          }
        }
      ]
    },
    {
      "cell_type": "code",
      "source": [],
      "metadata": {
        "id": "pA-PAnzE6Oyl"
      },
      "execution_count": null,
      "outputs": []
    }
  ]
}